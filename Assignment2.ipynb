{
  "nbformat": 4,
  "nbformat_minor": 0,
  "metadata": {
    "colab": {
      "name": "Assignment2.ipynb",
      "provenance": [],
      "collapsed_sections": []
    },
    "kernelspec": {
      "name": "python3",
      "display_name": "Python 3"
    },
    "accelerator": "GPU"
  },
  "cells": [
    {
      "cell_type": "code",
      "metadata": {
        "id": "nRKUpxYPta4P",
        "colab_type": "code",
        "outputId": "9ffe1225-0a46-443d-c864-ede6a35c0003",
        "colab": {
          "base_uri": "https://localhost:8080/",
          "height": 119
        }
      },
      "source": [
        "import keras\n",
        "from keras import layers\n",
        "import numpy as np\n",
        "import pandas as pd\n",
        "import nltk\n",
        "nltk.download('punkt')\n",
        "nltk.download('wordnet')\n",
        "import string\n",
        "from nltk.corpus import stopwords\n",
        "nltk.download('stopwords')\n",
        "import os\n",
        "from nltk.tokenize import word_tokenize\n",
        "from nltk import FreqDist\n",
        "from nltk.stem import SnowballStemmer,WordNetLemmatizer\n",
        "stemmer=SnowballStemmer('english')\n",
        "lemma=WordNetLemmatizer()\n",
        "from string import punctuation\n",
        "import re\n",
        "import gensim\n",
        "from keras.preprocessing.text import Tokenizer\n",
        "from keras.preprocessing.sequence import pad_sequences\n",
        "from keras.utils import to_categorical\n",
        "from keras.layers import Input, Dense, Embedding, Flatten,Dropout\n",
        "from keras.layers import SpatialDropout1D,GlobalMaxPooling1D\n",
        "from keras.layers.convolutional import Conv1D, MaxPooling1D\n",
        "from keras.models import Sequential\n",
        "from keras.models import Model\n",
        "from sklearn.preprocessing import LabelBinarizer\n",
        "from keras.layers import Embedding\n",
        "from keras.models import load_model\n",
        "from keras import backend as K"
      ],
      "execution_count": 34,
      "outputs": [
        {
          "output_type": "stream",
          "text": [
            "[nltk_data] Downloading package punkt to /root/nltk_data...\n",
            "[nltk_data]   Package punkt is already up-to-date!\n",
            "[nltk_data] Downloading package wordnet to /root/nltk_data...\n",
            "[nltk_data]   Package wordnet is already up-to-date!\n",
            "[nltk_data] Downloading package stopwords to /root/nltk_data...\n",
            "[nltk_data]   Package stopwords is already up-to-date!\n"
          ],
          "name": "stdout"
        }
      ]
    },
    {
      "cell_type": "code",
      "metadata": {
        "id": "xIttQXzyBcMo",
        "colab_type": "code",
        "colab": {}
      },
      "source": [
        "embedding_dim = 300"
      ],
      "execution_count": 0,
      "outputs": []
    },
    {
      "cell_type": "code",
      "metadata": {
        "id": "RegoHCdlQF4Z",
        "colab_type": "code",
        "outputId": "60d0d5e1-ed83-4161-e39b-7fa0dc3d209a",
        "colab": {
          "base_uri": "https://localhost:8080/",
          "height": 204
        }
      },
      "source": [
        "url = \"https://raw.githubusercontent.com/cacoderquan/Sentiment-Analysis-on-the-Rotten-Tomatoes-movie-review-dataset/master/train.tsv\"\n",
        "data = pd.read_csv(url,sep='\\t')\n",
        "data.head()"
      ],
      "execution_count": 36,
      "outputs": [
        {
          "output_type": "execute_result",
          "data": {
            "text/html": [
              "<div>\n",
              "<style scoped>\n",
              "    .dataframe tbody tr th:only-of-type {\n",
              "        vertical-align: middle;\n",
              "    }\n",
              "\n",
              "    .dataframe tbody tr th {\n",
              "        vertical-align: top;\n",
              "    }\n",
              "\n",
              "    .dataframe thead th {\n",
              "        text-align: right;\n",
              "    }\n",
              "</style>\n",
              "<table border=\"1\" class=\"dataframe\">\n",
              "  <thead>\n",
              "    <tr style=\"text-align: right;\">\n",
              "      <th></th>\n",
              "      <th>PhraseId</th>\n",
              "      <th>SentenceId</th>\n",
              "      <th>Phrase</th>\n",
              "      <th>Sentiment</th>\n",
              "    </tr>\n",
              "  </thead>\n",
              "  <tbody>\n",
              "    <tr>\n",
              "      <th>0</th>\n",
              "      <td>1</td>\n",
              "      <td>1</td>\n",
              "      <td>A series of escapades demonstrating the adage ...</td>\n",
              "      <td>1</td>\n",
              "    </tr>\n",
              "    <tr>\n",
              "      <th>1</th>\n",
              "      <td>2</td>\n",
              "      <td>1</td>\n",
              "      <td>A series of escapades demonstrating the adage ...</td>\n",
              "      <td>2</td>\n",
              "    </tr>\n",
              "    <tr>\n",
              "      <th>2</th>\n",
              "      <td>3</td>\n",
              "      <td>1</td>\n",
              "      <td>A series</td>\n",
              "      <td>2</td>\n",
              "    </tr>\n",
              "    <tr>\n",
              "      <th>3</th>\n",
              "      <td>4</td>\n",
              "      <td>1</td>\n",
              "      <td>A</td>\n",
              "      <td>2</td>\n",
              "    </tr>\n",
              "    <tr>\n",
              "      <th>4</th>\n",
              "      <td>5</td>\n",
              "      <td>1</td>\n",
              "      <td>series</td>\n",
              "      <td>2</td>\n",
              "    </tr>\n",
              "  </tbody>\n",
              "</table>\n",
              "</div>"
            ],
            "text/plain": [
              "   PhraseId  ...  Sentiment\n",
              "0         1  ...          1\n",
              "1         2  ...          2\n",
              "2         3  ...          2\n",
              "3         4  ...          2\n",
              "4         5  ...          2\n",
              "\n",
              "[5 rows x 4 columns]"
            ]
          },
          "metadata": {
            "tags": []
          },
          "execution_count": 36
        }
      ]
    },
    {
      "cell_type": "code",
      "metadata": {
        "id": "1pKH6vK-cy6z",
        "colab_type": "code",
        "colab": {}
      },
      "source": [
        "def clean_review(review_col):\n",
        "    review_corpus=[]\n",
        "    for i in range(0,len(review_col)):\n",
        "        review=str(review_col[i])\n",
        "        review=re.sub('[^a-zA-Z]',' ',review)\n",
        "        # tokens = word_tokenize(review)\n",
        "        # tokens = [w.lower() for w in tokens]\n",
        "        # table = str.maketrans('','',string.punctuation)\n",
        "        # stripped = [w.translate(table) for w in tokens]\n",
        "        # review = [word for word in review if word.isalpha()]\n",
        "        # stop_words= set(stopwords.words('english'))\n",
        "        # review = [w for w in review if not w in stop_words]\n",
        "        review=[lemma.lemmatize(w) for w in word_tokenize(str(review).lower())]\n",
        "        review=' '.join(review)\n",
        "        review_corpus.append(review)\n",
        "    return review_corpus"
      ],
      "execution_count": 0,
      "outputs": []
    },
    {
      "cell_type": "code",
      "metadata": {
        "id": "IQ2xMyvreXML",
        "colab_type": "code",
        "outputId": "ea80c011-0c9b-474f-e33a-81c9b65d8c23",
        "colab": {
          "base_uri": "https://localhost:8080/",
          "height": 204
        }
      },
      "source": [
        "data['clean_review']=clean_review(data.Phrase.values)\n",
        "data.head()"
      ],
      "execution_count": 38,
      "outputs": [
        {
          "output_type": "execute_result",
          "data": {
            "text/html": [
              "<div>\n",
              "<style scoped>\n",
              "    .dataframe tbody tr th:only-of-type {\n",
              "        vertical-align: middle;\n",
              "    }\n",
              "\n",
              "    .dataframe tbody tr th {\n",
              "        vertical-align: top;\n",
              "    }\n",
              "\n",
              "    .dataframe thead th {\n",
              "        text-align: right;\n",
              "    }\n",
              "</style>\n",
              "<table border=\"1\" class=\"dataframe\">\n",
              "  <thead>\n",
              "    <tr style=\"text-align: right;\">\n",
              "      <th></th>\n",
              "      <th>PhraseId</th>\n",
              "      <th>SentenceId</th>\n",
              "      <th>Phrase</th>\n",
              "      <th>Sentiment</th>\n",
              "      <th>clean_review</th>\n",
              "    </tr>\n",
              "  </thead>\n",
              "  <tbody>\n",
              "    <tr>\n",
              "      <th>0</th>\n",
              "      <td>1</td>\n",
              "      <td>1</td>\n",
              "      <td>A series of escapades demonstrating the adage ...</td>\n",
              "      <td>1</td>\n",
              "      <td>a series of escapade demonstrating the adage t...</td>\n",
              "    </tr>\n",
              "    <tr>\n",
              "      <th>1</th>\n",
              "      <td>2</td>\n",
              "      <td>1</td>\n",
              "      <td>A series of escapades demonstrating the adage ...</td>\n",
              "      <td>2</td>\n",
              "      <td>a series of escapade demonstrating the adage t...</td>\n",
              "    </tr>\n",
              "    <tr>\n",
              "      <th>2</th>\n",
              "      <td>3</td>\n",
              "      <td>1</td>\n",
              "      <td>A series</td>\n",
              "      <td>2</td>\n",
              "      <td>a series</td>\n",
              "    </tr>\n",
              "    <tr>\n",
              "      <th>3</th>\n",
              "      <td>4</td>\n",
              "      <td>1</td>\n",
              "      <td>A</td>\n",
              "      <td>2</td>\n",
              "      <td>a</td>\n",
              "    </tr>\n",
              "    <tr>\n",
              "      <th>4</th>\n",
              "      <td>5</td>\n",
              "      <td>1</td>\n",
              "      <td>series</td>\n",
              "      <td>2</td>\n",
              "      <td>series</td>\n",
              "    </tr>\n",
              "  </tbody>\n",
              "</table>\n",
              "</div>"
            ],
            "text/plain": [
              "   PhraseId  ...                                       clean_review\n",
              "0         1  ...  a series of escapade demonstrating the adage t...\n",
              "1         2  ...  a series of escapade demonstrating the adage t...\n",
              "2         3  ...                                           a series\n",
              "3         4  ...                                                  a\n",
              "4         5  ...                                             series\n",
              "\n",
              "[5 rows x 5 columns]"
            ]
          },
          "metadata": {
            "tags": []
          },
          "execution_count": 38
        }
      ]
    },
    {
      "cell_type": "code",
      "metadata": {
        "id": "eYw5EO8of5ue",
        "colab_type": "code",
        "outputId": "fc0c6804-84c7-4981-ff3b-eaf37e5c15bf",
        "colab": {
          "base_uri": "https://localhost:8080/",
          "height": 34
        }
      },
      "source": [
        "phrase_line = list()\n",
        "lines=data['Phrase'].values.tolist()\n",
        "for line in lines:\n",
        "  tokens = word_tokenize(line)\n",
        "  tokens = [w.lower() for w in tokens]\n",
        "  table = str.maketrans('','',string.punctuation)\n",
        "  stripped = [w.translate(table) for w in tokens]\n",
        "  words = [word for word in stripped if word.isalpha()]\n",
        "  stop_words= set(stopwords.words('english'))\n",
        "  words = [w for w in words if not w in stop_words]\n",
        "  phrase_line.append(words)\n",
        "len(phrase_line)"
      ],
      "execution_count": 39,
      "outputs": [
        {
          "output_type": "execute_result",
          "data": {
            "text/plain": [
              "156060"
            ]
          },
          "metadata": {
            "tags": []
          },
          "execution_count": 39
        }
      ]
    },
    {
      "cell_type": "code",
      "metadata": {
        "id": "j0n37smsfVmf",
        "colab_type": "code",
        "outputId": "0b334173-d64b-4459-df25-5c3122190fac",
        "colab": {
          "base_uri": "https://localhost:8080/",
          "height": 34
        }
      },
      "source": [
        "word2Vec_model = gensim.models.Word2Vec(sentences=phrase_line,size=embedding_dim,window=5,workers=4,min_count=1)\n",
        "words=list(word2Vec_model.wv.vocab)\n",
        "print(len(words))"
      ],
      "execution_count": 40,
      "outputs": [
        {
          "output_type": "stream",
          "text": [
            "16063\n"
          ],
          "name": "stdout"
        }
      ]
    },
    {
      "cell_type": "code",
      "metadata": {
        "id": "IyervF6DjMzk",
        "colab_type": "code",
        "outputId": "b916d793-f3fb-4355-c784-f1c10d86ca90",
        "colab": {
          "base_uri": "https://localhost:8080/",
          "height": 71
        }
      },
      "source": [
        "filename='1100690_embedding_word2vec.txt'\n",
        "word2Vec_model.wv.save_word2vec_format(filename,binary=False)"
      ],
      "execution_count": 41,
      "outputs": [
        {
          "output_type": "stream",
          "text": [
            "/usr/local/lib/python3.6/dist-packages/smart_open/smart_open_lib.py:410: UserWarning: This function is deprecated, use smart_open.open instead. See the migration notes for details: https://github.com/RaRe-Technologies/smart_open/blob/master/README.rst#migrating-to-the-new-open-function\n",
            "  'See the migration notes for details: %s' % _MIGRATION_NOTES_URL\n"
          ],
          "name": "stderr"
        }
      ]
    },
    {
      "cell_type": "code",
      "metadata": {
        "id": "R5iEog6Ue-jT",
        "colab_type": "code",
        "colab": {}
      },
      "source": [
        "from keras.utils import to_categorical\n",
        "X = data['clean_review']\n",
        "Y = to_categorical(data['Sentiment'].values)"
      ],
      "execution_count": 0,
      "outputs": []
    },
    {
      "cell_type": "code",
      "metadata": {
        "id": "6L-a_pIyfE_Z",
        "colab_type": "code",
        "colab": {}
      },
      "source": [
        "from sklearn.model_selection import train_test_split\n",
        "X_train, X_test, y_train, y_test = train_test_split(\n",
        "    X, Y, test_size=0.30, random_state=1000)"
      ],
      "execution_count": 0,
      "outputs": []
    },
    {
      "cell_type": "code",
      "metadata": {
        "id": "R1FazzP3fReT",
        "colab_type": "code",
        "outputId": "9dd2e716-b0e7-4c76-cf13-0b97713ba58f",
        "colab": {
          "base_uri": "https://localhost:8080/",
          "height": 34
        }
      },
      "source": [
        "all_words=' '.join(X_train)\n",
        "all_words=word_tokenize(all_words)\n",
        "#print(all_words)\n",
        "dist=FreqDist(all_words)\n",
        "\n",
        "num_unique_word=len(dist)\n",
        "num_unique_word\n",
        "#X_train.head()"
      ],
      "execution_count": 44,
      "outputs": [
        {
          "output_type": "execute_result",
          "data": {
            "text/plain": [
              "13719"
            ]
          },
          "metadata": {
            "tags": []
          },
          "execution_count": 44
        }
      ]
    },
    {
      "cell_type": "code",
      "metadata": {
        "id": "7D4g3Z2vfUjF",
        "colab_type": "code",
        "outputId": "ba42866d-37f6-4a39-d869-450bfc9f8b77",
        "colab": {
          "base_uri": "https://localhost:8080/",
          "height": 34
        }
      },
      "source": [
        "r_len=[]\n",
        "for text in X_train:\n",
        "    word=word_tokenize(text)\n",
        "  #  print(text)\n",
        "    l=len(word)\n",
        "    r_len.append(l)\n",
        "    \n",
        "MAX_REVIEW_LEN=np.max(r_len)\n",
        "MAX_REVIEW_LEN"
      ],
      "execution_count": 45,
      "outputs": [
        {
          "output_type": "execute_result",
          "data": {
            "text/plain": [
              "48"
            ]
          },
          "metadata": {
            "tags": []
          },
          "execution_count": 45
        }
      ]
    },
    {
      "cell_type": "code",
      "metadata": {
        "id": "At4zsVZwfaWM",
        "colab_type": "code",
        "colab": {}
      },
      "source": [
        "max_features = num_unique_word\n",
        "max_words = MAX_REVIEW_LEN\n",
        "batch_size = 128\n",
        "num_classes=5"
      ],
      "execution_count": 0,
      "outputs": []
    },
    {
      "cell_type": "code",
      "metadata": {
        "id": "iRF0GbK0SZeX",
        "colab_type": "code",
        "outputId": "568c2027-0549-4db8-fb93-7d232965eb2d",
        "colab": {
          "base_uri": "https://localhost:8080/",
          "height": 34
        }
      },
      "source": [
        "tokenizer = Tokenizer(num_words=max_features)\n",
        "tokenizer.fit_on_texts(X_train)\n",
        "X_train = tokenizer.texts_to_sequences(X_train)\n",
        "X_test = tokenizer.texts_to_sequences(X_test)\n",
        "word_index = tokenizer.word_index\n",
        "print('Found %s unique tokens.' % len(word_index))\n",
        "# vocab_size = len(tokenizer.word_index) + 1"
      ],
      "execution_count": 47,
      "outputs": [
        {
          "output_type": "stream",
          "text": [
            "Found 13719 unique tokens.\n"
          ],
          "name": "stdout"
        }
      ]
    },
    {
      "cell_type": "code",
      "metadata": {
        "id": "pdvnX77pScGW",
        "colab_type": "code",
        "outputId": "691ab279-884a-4b41-e2b6-6800f9813faf",
        "colab": {
          "base_uri": "https://localhost:8080/",
          "height": 51
        }
      },
      "source": [
        "X_train = pad_sequences(X_train, padding='post', maxlen=max_words)\n",
        "X_test = pad_sequences(X_test, padding='post', maxlen=X_train.shape[1])\n",
        "print('Shape of X train and X validation tensor:', X_train.shape,X_test.shape)\n",
        "print('Shape of label train and validation tensor:', y_train.shape,y_test.shape)"
      ],
      "execution_count": 48,
      "outputs": [
        {
          "output_type": "stream",
          "text": [
            "Shape of X train and X validation tensor: (109242, 48) (46818, 48)\n",
            "Shape of label train and validation tensor: (109242, 5) (46818, 5)\n"
          ],
          "name": "stdout"
        }
      ]
    },
    {
      "cell_type": "code",
      "metadata": {
        "id": "yRZw9f5vhp-N",
        "colab_type": "code",
        "colab": {}
      },
      "source": [
        "tokenizer_object = Tokenizer()\n",
        "tokenizer_object.fit_on_texts(phrase_line)\n",
        "word_index = tokenizer_object.word_index"
      ],
      "execution_count": 0,
      "outputs": []
    },
    {
      "cell_type": "code",
      "metadata": {
        "id": "I4jXBtCJle4v",
        "colab_type": "code",
        "outputId": "3bf42057-07a7-47d0-f45d-7602ae2de0bd",
        "colab": {
          "base_uri": "https://localhost:8080/",
          "height": 34
        }
      },
      "source": [
        "embeddings_index = {}\n",
        "f = open(os.path.join('', '/content/1100690_embedding_word2vec.txt'))\n",
        "for line in f:\n",
        "    values = line.split()\n",
        "    word = values[0]\n",
        "    coefs = np.asarray(values[1:], dtype='float32')\n",
        "    embeddings_index[word] = coefs\n",
        "f.close()\n",
        "\n",
        "print('Found %s word vectors.' % len(embeddings_index))\n",
        "embedding_matrix = np.zeros((len(word_index) + 1, embedding_dim))\n",
        "for word, i in word_index.items():\n",
        "    embedding_vector = embeddings_index.get(word)\n",
        "    if embedding_vector is not None:\n",
        "        # words not found in embedding index will be all-zeros.\n",
        "        embedding_matrix[i] = embedding_vector"
      ],
      "execution_count": 50,
      "outputs": [
        {
          "output_type": "stream",
          "text": [
            "Found 16064 word vectors.\n"
          ],
          "name": "stdout"
        }
      ]
    },
    {
      "cell_type": "code",
      "metadata": {
        "id": "q48Ik-yTRmw3",
        "colab_type": "code",
        "colab": {}
      },
      "source": [
        "# EMBEDDING_DIM=300\n",
        "vocabulary_size=min(len(word_index)+1,max_features)\n",
        "embedding_layer = Embedding(len(word_index) + 1,\n",
        "                            embedding_dim,\n",
        "                            weights=[embedding_matrix],\n",
        "                            input_length=X_train.shape[1],\n",
        "                            trainable=False)\n",
        "# embedding_layer = Embedding(vocabulary_size,\n",
        "#                             embedding_dim)"
      ],
      "execution_count": 0,
      "outputs": []
    },
    {
      "cell_type": "code",
      "metadata": {
        "id": "1Uz8Jex4Sgq-",
        "colab_type": "code",
        "outputId": "e3ad8981-34de-4b63-d433-adf11cf56f84",
        "colab": {
          "base_uri": "https://localhost:8080/",
          "height": 425
        }
      },
      "source": [
        "model = Sequential()\n",
        "model.add(embedding_layer)\n",
        "model.add(SpatialDropout1D(0.1))\n",
        "model.add(layers.Conv1D(100, 3, activation='relu'))\n",
        "model.add(layers.Conv1D(128, 3, activation='relu'))\n",
        "model.add(layers.GlobalMaxPooling1D())\n",
        "model.add(layers.Dense(10, activation='relu'))\n",
        "model.add(Dense(5, activation='sigmoid'))\n",
        "model.add(layers.Dense(num_classes, activation='softmax'))\n",
        "model.compile(optimizer='adam',\n",
        "              loss='categorical_crossentropy',\n",
        "              metrics=['accuracy'])\n",
        "model.summary()"
      ],
      "execution_count": 52,
      "outputs": [
        {
          "output_type": "stream",
          "text": [
            "Model: \"sequential_2\"\n",
            "_________________________________________________________________\n",
            "Layer (type)                 Output Shape              Param #   \n",
            "=================================================================\n",
            "embedding_2 (Embedding)      (None, 48, 300)           4819200   \n",
            "_________________________________________________________________\n",
            "spatial_dropout1d_2 (Spatial (None, 48, 300)           0         \n",
            "_________________________________________________________________\n",
            "conv1d_3 (Conv1D)            (None, 46, 100)           90100     \n",
            "_________________________________________________________________\n",
            "conv1d_4 (Conv1D)            (None, 44, 128)           38528     \n",
            "_________________________________________________________________\n",
            "global_max_pooling1d_2 (Glob (None, 128)               0         \n",
            "_________________________________________________________________\n",
            "dense_4 (Dense)              (None, 10)                1290      \n",
            "_________________________________________________________________\n",
            "dense_5 (Dense)              (None, 5)                 55        \n",
            "_________________________________________________________________\n",
            "dense_6 (Dense)              (None, 5)                 30        \n",
            "=================================================================\n",
            "Total params: 4,949,203\n",
            "Trainable params: 130,003\n",
            "Non-trainable params: 4,819,200\n",
            "_________________________________________________________________\n"
          ],
          "name": "stdout"
        }
      ]
    },
    {
      "cell_type": "code",
      "metadata": {
        "id": "T3wgrlSuTH6X",
        "colab_type": "code",
        "colab": {
          "base_uri": "https://localhost:8080/",
          "height": 1000
        },
        "outputId": "4956a7da-4da2-4097-c54d-459570a376af"
      },
      "source": [
        "history = model.fit(X_train, y_train,\n",
        "                    epochs=50,\n",
        "                    validation_data=(X_test, y_test),\n",
        "                    batch_size=32)\n",
        "model.save('1100690_1dconv_reg.h5')"
      ],
      "execution_count": 53,
      "outputs": [
        {
          "output_type": "stream",
          "text": [
            "Train on 109242 samples, validate on 46818 samples\n",
            "Epoch 1/50\n",
            "109242/109242 [==============================] - 21s 188us/step - loss: 1.2440 - acc: 0.5012 - val_loss: 1.2102 - val_acc: 0.5095\n",
            "Epoch 2/50\n",
            "109242/109242 [==============================] - 20s 181us/step - loss: 1.2037 - acc: 0.5139 - val_loss: 1.1987 - val_acc: 0.5169\n",
            "Epoch 3/50\n",
            "109242/109242 [==============================] - 20s 179us/step - loss: 1.1871 - acc: 0.5237 - val_loss: 1.1832 - val_acc: 0.5242\n",
            "Epoch 4/50\n",
            "109242/109242 [==============================] - 20s 180us/step - loss: 1.1692 - acc: 0.5294 - val_loss: 1.1706 - val_acc: 0.5309\n",
            "Epoch 5/50\n",
            "109242/109242 [==============================] - 20s 179us/step - loss: 1.1520 - acc: 0.5381 - val_loss: 1.1566 - val_acc: 0.5355\n",
            "Epoch 6/50\n",
            "109242/109242 [==============================] - 20s 187us/step - loss: 1.1334 - acc: 0.5475 - val_loss: 1.1454 - val_acc: 0.5425\n",
            "Epoch 7/50\n",
            "109242/109242 [==============================] - 20s 181us/step - loss: 1.1168 - acc: 0.5542 - val_loss: 1.1331 - val_acc: 0.5458\n",
            "Epoch 8/50\n",
            "109242/109242 [==============================] - 20s 179us/step - loss: 1.0988 - acc: 0.5626 - val_loss: 1.1255 - val_acc: 0.5477\n",
            "Epoch 9/50\n",
            "109242/109242 [==============================] - 19s 178us/step - loss: 1.0842 - acc: 0.5686 - val_loss: 1.1134 - val_acc: 0.5562\n",
            "Epoch 10/50\n",
            "109242/109242 [==============================] - 20s 180us/step - loss: 1.0706 - acc: 0.5740 - val_loss: 1.1086 - val_acc: 0.5579\n",
            "Epoch 11/50\n",
            "109242/109242 [==============================] - 20s 187us/step - loss: 1.0573 - acc: 0.5795 - val_loss: 1.1012 - val_acc: 0.5619\n",
            "Epoch 12/50\n",
            "109242/109242 [==============================] - 20s 180us/step - loss: 1.0458 - acc: 0.5854 - val_loss: 1.0948 - val_acc: 0.5631\n",
            "Epoch 13/50\n",
            "109242/109242 [==============================] - 20s 182us/step - loss: 1.0353 - acc: 0.5884 - val_loss: 1.1038 - val_acc: 0.5598\n",
            "Epoch 14/50\n",
            "109242/109242 [==============================] - 20s 180us/step - loss: 1.0251 - acc: 0.5920 - val_loss: 1.0856 - val_acc: 0.5650\n",
            "Epoch 15/50\n",
            "109242/109242 [==============================] - 20s 179us/step - loss: 1.0151 - acc: 0.5960 - val_loss: 1.0793 - val_acc: 0.5738\n",
            "Epoch 16/50\n",
            "109242/109242 [==============================] - 20s 183us/step - loss: 1.0048 - acc: 0.5996 - val_loss: 1.0748 - val_acc: 0.5721\n",
            "Epoch 17/50\n",
            "109242/109242 [==============================] - 20s 183us/step - loss: 0.9978 - acc: 0.6034 - val_loss: 1.0752 - val_acc: 0.5762\n",
            "Epoch 18/50\n",
            "109242/109242 [==============================] - 20s 183us/step - loss: 0.9882 - acc: 0.6065 - val_loss: 1.0822 - val_acc: 0.5724\n",
            "Epoch 19/50\n",
            "109242/109242 [==============================] - 20s 183us/step - loss: 0.9825 - acc: 0.6096 - val_loss: 1.0706 - val_acc: 0.5760\n",
            "Epoch 20/50\n",
            "109242/109242 [==============================] - 19s 176us/step - loss: 0.9770 - acc: 0.6116 - val_loss: 1.0694 - val_acc: 0.5783\n",
            "Epoch 21/50\n",
            "109242/109242 [==============================] - 20s 183us/step - loss: 0.9705 - acc: 0.6142 - val_loss: 1.0704 - val_acc: 0.5760\n",
            "Epoch 22/50\n",
            "109242/109242 [==============================] - 20s 182us/step - loss: 0.9653 - acc: 0.6167 - val_loss: 1.0665 - val_acc: 0.5792\n",
            "Epoch 23/50\n",
            "109242/109242 [==============================] - 20s 184us/step - loss: 0.9596 - acc: 0.6190 - val_loss: 1.0609 - val_acc: 0.5772\n",
            "Epoch 24/50\n",
            "109242/109242 [==============================] - 20s 181us/step - loss: 0.9547 - acc: 0.6197 - val_loss: 1.0655 - val_acc: 0.5787\n",
            "Epoch 25/50\n",
            "109242/109242 [==============================] - 20s 186us/step - loss: 0.9516 - acc: 0.6221 - val_loss: 1.0647 - val_acc: 0.5803\n",
            "Epoch 26/50\n",
            "109242/109242 [==============================] - 21s 189us/step - loss: 0.9463 - acc: 0.6235 - val_loss: 1.0656 - val_acc: 0.5783\n",
            "Epoch 27/50\n",
            "109242/109242 [==============================] - 20s 185us/step - loss: 0.9433 - acc: 0.6248 - val_loss: 1.0590 - val_acc: 0.5818\n",
            "Epoch 28/50\n",
            "109242/109242 [==============================] - 20s 184us/step - loss: 0.9367 - acc: 0.6280 - val_loss: 1.0683 - val_acc: 0.5814\n",
            "Epoch 29/50\n",
            "109242/109242 [==============================] - 20s 184us/step - loss: 0.9344 - acc: 0.6300 - val_loss: 1.0700 - val_acc: 0.5741\n",
            "Epoch 30/50\n",
            "109242/109242 [==============================] - 20s 185us/step - loss: 0.9306 - acc: 0.6309 - val_loss: 1.0734 - val_acc: 0.5683\n",
            "Epoch 31/50\n",
            "109242/109242 [==============================] - 20s 183us/step - loss: 0.9260 - acc: 0.6319 - val_loss: 1.0710 - val_acc: 0.5826\n",
            "Epoch 32/50\n",
            "109242/109242 [==============================] - 20s 186us/step - loss: 0.9234 - acc: 0.6345 - val_loss: 1.0656 - val_acc: 0.5810\n",
            "Epoch 33/50\n",
            "109242/109242 [==============================] - 20s 182us/step - loss: 0.9202 - acc: 0.6348 - val_loss: 1.0690 - val_acc: 0.5774\n",
            "Epoch 34/50\n",
            "109242/109242 [==============================] - 21s 194us/step - loss: 0.9171 - acc: 0.6373 - val_loss: 1.0612 - val_acc: 0.5817\n",
            "Epoch 35/50\n",
            "109242/109242 [==============================] - 20s 185us/step - loss: 0.9152 - acc: 0.6378 - val_loss: 1.0618 - val_acc: 0.5779\n",
            "Epoch 36/50\n",
            "109242/109242 [==============================] - 21s 190us/step - loss: 0.9134 - acc: 0.6399 - val_loss: 1.0627 - val_acc: 0.5856\n",
            "Epoch 37/50\n",
            "109242/109242 [==============================] - 20s 181us/step - loss: 0.9091 - acc: 0.6406 - val_loss: 1.0700 - val_acc: 0.5714\n",
            "Epoch 38/50\n",
            "109242/109242 [==============================] - 20s 183us/step - loss: 0.9075 - acc: 0.6407 - val_loss: 1.0632 - val_acc: 0.5840\n",
            "Epoch 39/50\n",
            "109242/109242 [==============================] - 20s 183us/step - loss: 0.9036 - acc: 0.6425 - val_loss: 1.0569 - val_acc: 0.5837\n",
            "Epoch 40/50\n",
            "109242/109242 [==============================] - 21s 189us/step - loss: 0.9021 - acc: 0.6424 - val_loss: 1.0555 - val_acc: 0.5823\n",
            "Epoch 41/50\n",
            "109242/109242 [==============================] - 20s 187us/step - loss: 0.9006 - acc: 0.6440 - val_loss: 1.0675 - val_acc: 0.5829\n",
            "Epoch 42/50\n",
            "109242/109242 [==============================] - 21s 191us/step - loss: 0.8963 - acc: 0.6460 - val_loss: 1.0620 - val_acc: 0.5890\n",
            "Epoch 43/50\n",
            "109242/109242 [==============================] - 19s 178us/step - loss: 0.8957 - acc: 0.6462 - val_loss: 1.0612 - val_acc: 0.5849\n",
            "Epoch 44/50\n",
            "109242/109242 [==============================] - 19s 176us/step - loss: 0.8927 - acc: 0.6483 - val_loss: 1.0631 - val_acc: 0.5829\n",
            "Epoch 45/50\n",
            "109242/109242 [==============================] - 20s 180us/step - loss: 0.8917 - acc: 0.6468 - val_loss: 1.0599 - val_acc: 0.5809\n",
            "Epoch 46/50\n",
            "109242/109242 [==============================] - 21s 191us/step - loss: 0.8887 - acc: 0.6483 - val_loss: 1.0661 - val_acc: 0.5811\n",
            "Epoch 47/50\n",
            "109242/109242 [==============================] - 20s 182us/step - loss: 0.8877 - acc: 0.6487 - val_loss: 1.0622 - val_acc: 0.5837\n",
            "Epoch 48/50\n",
            "109242/109242 [==============================] - 20s 181us/step - loss: 0.8861 - acc: 0.6506 - val_loss: 1.0636 - val_acc: 0.5881\n",
            "Epoch 49/50\n",
            "109242/109242 [==============================] - 20s 185us/step - loss: 0.8845 - acc: 0.6497 - val_loss: 1.0662 - val_acc: 0.5757\n",
            "Epoch 50/50\n",
            "109242/109242 [==============================] - 20s 183us/step - loss: 0.8810 - acc: 0.6533 - val_loss: 1.0686 - val_acc: 0.5886\n"
          ],
          "name": "stdout"
        }
      ]
    },
    {
      "cell_type": "code",
      "metadata": {
        "id": "InTmOGZIzfjr",
        "colab_type": "code",
        "colab": {}
      },
      "source": [
        "def recall_m(y_true, y_pred):\n",
        "    true_positives = K.sum(K.round(K.clip(y_true * y_pred, 0, 1)))\n",
        "    possible_positives = K.sum(K.round(K.clip(y_true, 0, 1)))\n",
        "    recall = true_positives / (possible_positives + K.epsilon())\n",
        "    return recall\n",
        "\n",
        "def precision_m(y_true, y_pred):\n",
        "    true_positives = K.sum(K.round(K.clip(y_true * y_pred, 0, 1)))\n",
        "    predicted_positives = K.sum(K.round(K.clip(y_pred, 0, 1)))\n",
        "    precision = true_positives / (predicted_positives + K.epsilon())\n",
        "    return precision\n",
        "\n",
        "def f1_m(y_true, y_pred):\n",
        "    precision = precision_m(y_true, y_pred)\n",
        "    recall = recall_m(y_true, y_pred)\n",
        "    return 2*((precision*recall)/(precision+recall+K.epsilon()))\n"
      ],
      "execution_count": 0,
      "outputs": []
    },
    {
      "cell_type": "code",
      "metadata": {
        "id": "r70w5DPvyikR",
        "colab_type": "code",
        "outputId": "eaebbdc3-2fb4-443d-9a85-0cc6b33369e8",
        "colab": {
          "base_uri": "https://localhost:8080/",
          "height": 102
        }
      },
      "source": [
        "model = load_model('1100690_1dconv_reg.h5')\n",
        "loss_training, accuracy_training = model.evaluate(X_train, y_train, verbose=False)\n",
        "loss,accuracy = model.evaluate(X_test, y_test, verbose=False)\n",
        "y_pred = model.predict(X_test)\n",
        "print(\"Training Accuracy: {:.4f}\".format(accuracy_training))\n",
        "print(\"Testing Accuracy:  {:.4f}\".format(accuracy))\n",
        "print(\"Testing f1_score:  {:.4f}\".format(K.get_value(K.to_dense(f1_m(y_test,y_pred)))))\n",
        "print(\"Testing precision:  {:.4f}\".format(K.get_value(K.to_dense(precision_m(y_test,y_pred)))))\n",
        "print(\"Testing recall:  {:.4f}\".format(K.get_value(K.to_dense(recall_m(y_test,y_pred)))))"
      ],
      "execution_count": 55,
      "outputs": [
        {
          "output_type": "stream",
          "text": [
            "Training Accuracy: 0.6680\n",
            "Testing Accuracy:  0.5886\n",
            "Testing f1_score:  0.5696\n",
            "Testing precision:  0.6229\n",
            "Testing recall:  0.5248\n"
          ],
          "name": "stdout"
        }
      ]
    }
  ]
}